{
  "nbformat": 4,
  "nbformat_minor": 0,
  "metadata": {
    "colab": {
      "name": "TanyaGupta.ipynb",
      "provenance": [],
      "collapsed_sections": []
    },
    "kernelspec": {
      "name": "python3",
      "display_name": "Python 3"
    },
    "language_info": {
      "name": "python"
    }
  },
  "cells": [
    {
      "cell_type": "markdown",
      "source": [
        "Answer 1\n"
      ],
      "metadata": {
        "id": "hHwcLMnR4ry1"
      }
    },
    {
      "cell_type": "code",
      "execution_count": null,
      "metadata": {
        "colab": {
          "base_uri": "https://localhost:8080/"
        },
        "id": "o6TR2Kuw4jAd",
        "outputId": "0fabd316-12ef-4669-a406-2615fb3bdf25"
      },
      "outputs": [
        {
          "output_type": "stream",
          "name": "stdout",
          "text": [
            "2002,2009,2016,2023,2037,2044,2051,2058,2072,2079,2086,2093,2107,2114,2121,2128,2142,2149,2156,2163,2177,2184,2191,2198,2212,2219,2226,2233,2247,2254,2261,2268,2282,2289,2296,2303,2317,2324,2331,2338,2352,2359,2366,2373,2387,2394,2401,2408,2422,2429,2436,2443,2457,2464,2471,2478,2492,2499,2506,2513,2527,2534,2541,2548,2562,2569,2576,2583,2597,2604,2611,2618,2632,2639,2646,2653,2667,2674,2681,2688,2702,2709,2716,2723,2737,2744,2751,2758,2772,2779,2786,2793,2807,2814,2821,2828,2842,2849,2856,2863,2877,2884,2891,2898,2912,2919,2926,2933,2947,2954,2961,2968,2982,2989,2996,3003,3017,3024,3031,3038,3052,3059,3066,3073,3087,3094,3101,3108,3122,3129,3136,3143,3157,3164,3171,3178,3192,3199\n"
          ]
        }
      ],
      "source": [
        "nl=[]\n",
        "for x in range(2000, 3201):\n",
        "    if (x%7==0) and (x%5!=0):\n",
        "        nl.append(str(x))\n",
        "print (','.join(nl))"
      ]
    },
    {
      "cell_type": "markdown",
      "source": [
        "Answer 2"
      ],
      "metadata": {
        "id": "pUvyzToK8E1j"
      }
    },
    {
      "cell_type": "code",
      "source": [
        "def facto(x):\n",
        "    fact=1\n",
        "    for i in range(1,x+1):\n",
        "      fact=fact*i\n",
        "    return fact\n",
        "\n",
        "x = int(input(\"Enter Value: \"))\n",
        "print (facto(x))"
      ],
      "metadata": {
        "colab": {
          "base_uri": "https://localhost:8080/"
        },
        "id": "aENwebTk8LDN",
        "outputId": "347c2cc8-9c01-484c-d6fe-810b159f9211"
      },
      "execution_count": null,
      "outputs": [
        {
          "output_type": "stream",
          "name": "stdout",
          "text": [
            "Enter Value: 8\n",
            "40320\n"
          ]
        }
      ]
    },
    {
      "cell_type": "markdown",
      "source": [
        "Answer 3"
      ],
      "metadata": {
        "id": "vYfbM5k1_58m"
      }
    },
    {
      "cell_type": "code",
      "source": [
        "num = int(input(\"Enter Range: \"))\n",
        "\n",
        "dict = {}\n",
        "for i in range(1, num+1):\n",
        "    dict[i] = i*i\n",
        "\n",
        "print(dict)"
      ],
      "metadata": {
        "colab": {
          "base_uri": "https://localhost:8080/"
        },
        "id": "Ty85yhJo_7MK",
        "outputId": "29b57c3e-eac0-4e96-d396-1c05db903bcd"
      },
      "execution_count": null,
      "outputs": [
        {
          "output_type": "stream",
          "name": "stdout",
          "text": [
            "Enter Range: 8\n",
            "{1: 1, 2: 4, 3: 9, 4: 16, 5: 25, 6: 36, 7: 49, 8: 64}\n"
          ]
        }
      ]
    },
    {
      "cell_type": "markdown",
      "source": [
        "Answer 4"
      ],
      "metadata": {
        "id": "mRImy2ORAlke"
      }
    },
    {
      "cell_type": "code",
      "source": [
        "num = input(\"Enter Values\")\n",
        "list = num.split(\",\")\n",
        "tuple = tuple(list)\n",
        "print(list)\n",
        "print(tuple)"
      ],
      "metadata": {
        "colab": {
          "base_uri": "https://localhost:8080/"
        },
        "id": "U61HTWaUAm1o",
        "outputId": "5b7da71a-03e4-4b52-c660-98e675ebfeb3"
      },
      "execution_count": null,
      "outputs": [
        {
          "output_type": "stream",
          "name": "stdout",
          "text": [
            "Enter Values34,67,55,33,12,98\n",
            "['34', '67', '55', '33', '12', '98']\n",
            "('34', '67', '55', '33', '12', '98')\n"
          ]
        }
      ]
    },
    {
      "cell_type": "markdown",
      "source": [
        ""
      ],
      "metadata": {
        "id": "i7l9qvvbBtpD"
      }
    },
    {
      "cell_type": "markdown",
      "source": [
        "Answer 5"
      ],
      "metadata": {
        "id": "4kOgOp1NBtwO"
      }
    },
    {
      "cell_type": "code",
      "source": [
        "class StrUpper:\n",
        "    def __init__(self):\n",
        "        self.str = \"\"\n",
        "\n",
        "    def getString(self):\n",
        "        self.str = input(\"Enter String: \")\n",
        "\n",
        "    def printString(self):\n",
        "        print (\"String In Upper Case is : \",self.str.upper())\n",
        "\n",
        "obj = StrUpper()\n",
        "obj.getString()\n",
        "obj.printString()"
      ],
      "metadata": {
        "colab": {
          "base_uri": "https://localhost:8080/"
        },
        "id": "D0Wq3drFBv0H",
        "outputId": "9bf049c7-dbdb-4c07-ab2d-8b4d48a99d83"
      },
      "execution_count": null,
      "outputs": [
        {
          "output_type": "stream",
          "name": "stdout",
          "text": [
            "Enter String: tanya\n",
            "String In Upper Case is :  TANYA\n"
          ]
        }
      ]
    },
    {
      "cell_type": "markdown",
      "source": [
        "Answer 6"
      ],
      "metadata": {
        "id": "OxjYWtZxBv_5"
      }
    },
    {
      "cell_type": "code",
      "source": [
        "import math\n",
        "c=50\n",
        "h=30\n",
        "d = input(\"Provide D: \")\n",
        "d = d.split(',')\n",
        "\n",
        "result = []\n",
        "for i in d:\n",
        "    Q = (int(round(math.sqrt(2*c*float(i)/h))))\n",
        "    result.append(Q)\n",
        "\n",
        "print(result)"
      ],
      "metadata": {
        "colab": {
          "base_uri": "https://localhost:8080/"
        },
        "id": "GvLz-Xr1Bx3v",
        "outputId": "ffa62004-7aa8-4851-ffad-8ec4c4769873"
      },
      "execution_count": null,
      "outputs": [
        {
          "output_type": "stream",
          "name": "stdout",
          "text": [
            "Provide D: 100,150,180\n",
            "[18, 22, 24]\n"
          ]
        }
      ]
    },
    {
      "cell_type": "markdown",
      "source": [
        "Answer 7"
      ],
      "metadata": {
        "id": "mBCpt-EBB4pK"
      }
    },
    {
      "cell_type": "code",
      "source": [
        "x = int(input(\"Rows: \"))\n",
        "y = int(input(\"Columns: \"))\n",
        "list = [[0 for col in range(y)] for row in range(x)]\n",
        "\n",
        "for i in range(x):\n",
        "    for j in range(y):\n",
        "        list[i][j]= i*j\n",
        "\n",
        "print(list)"
      ],
      "metadata": {
        "colab": {
          "base_uri": "https://localhost:8080/"
        },
        "id": "ff7FSvd_B6AS",
        "outputId": "e87c4ba3-837e-487f-827b-1151d3a02588"
      },
      "execution_count": null,
      "outputs": [
        {
          "output_type": "stream",
          "name": "stdout",
          "text": [
            "Rows: 3\n",
            "Columns: 5\n",
            "[[0, 0, 0, 0, 0], [0, 1, 2, 3, 4], [0, 2, 4, 6, 8]]\n"
          ]
        }
      ]
    },
    {
      "cell_type": "markdown",
      "source": [
        "Answer 8"
      ],
      "metadata": {
        "id": "i2tn6sImB61i"
      }
    },
    {
      "cell_type": "code",
      "source": [
        "list = input(\"Enter String : \")\n",
        "list=list.split(',')\n",
        "list.sort()\n",
        "print(\",\".join(list))"
      ],
      "metadata": {
        "colab": {
          "base_uri": "https://localhost:8080/"
        },
        "id": "JnA0LY-PB9Wz",
        "outputId": "b6a3a2e1-e66b-4fc9-82bf-5350df6b2a53"
      },
      "execution_count": null,
      "outputs": [
        {
          "output_type": "stream",
          "name": "stdout",
          "text": [
            "Enter String : without,hello,bag,world\n",
            "bag,hello,without,world\n"
          ]
        }
      ]
    },
    {
      "cell_type": "markdown",
      "source": [
        "Answer 9"
      ],
      "metadata": {
        "id": "XHCSTYiuB9kL"
      }
    },
    {
      "cell_type": "code",
      "source": [
        "list = []\n",
        "while True:\n",
        "    str = input(\"Enter String : \")\n",
        "    if len(str)==0:\n",
        "        break\n",
        "    else:\n",
        "        list.append(str.upper())\n",
        "\n",
        "for i in list:\n",
        "    print(i)"
      ],
      "metadata": {
        "colab": {
          "base_uri": "https://localhost:8080/"
        },
        "id": "ofcwa8XxB-8s",
        "outputId": "91581639-7141-4bbf-f6cd-fd992e6c58b9"
      },
      "execution_count": null,
      "outputs": [
        {
          "output_type": "stream",
          "name": "stdout",
          "text": [
            "Enter StringHello world\n",
            "Enter Stringpractice makes perfect\n",
            "Enter String\n",
            "HELLO WORLD\n",
            "PRACTICE MAKES PERFECT\n"
          ]
        }
      ]
    },
    {
      "cell_type": "markdown",
      "source": [
        "Answer 10"
      ],
      "metadata": {
        "id": "MHtM87BdB_H3"
      }
    },
    {
      "cell_type": "code",
      "source": [
        "str = input(\"Enter String: \")\n",
        "str=str.split()\n",
        "for i in str:\n",
        "    if str.count(i) > 1 :   \n",
        "        str.remove(i) \n",
        "\n",
        "str.sort()\n",
        "print(\" \".join(str))"
      ],
      "metadata": {
        "colab": {
          "base_uri": "https://localhost:8080/"
        },
        "id": "cc8uw5O6CAZ-",
        "outputId": "5749f26e-550c-4d51-f180-64d6f9a01771"
      },
      "execution_count": null,
      "outputs": [
        {
          "output_type": "stream",
          "name": "stdout",
          "text": [
            "Enter String: hello world and practice makes perfect and hello world again\n",
            "again and hello makes perfect practice world\n"
          ]
        }
      ]
    },
    {
      "cell_type": "markdown",
      "source": [
        "Answer 11"
      ],
      "metadata": {
        "id": "xhUWG6JpLk-6"
      }
    },
    {
      "cell_type": "code",
      "source": [
        "result = []\n",
        "num = [x for x in input().split(',')]\n",
        "for i in num:\n",
        "    x = int(i, 2)\n",
        "    if not x%5:\n",
        "        result.append(i)\n",
        "print(','.join(result))"
      ],
      "metadata": {
        "colab": {
          "base_uri": "https://localhost:8080/"
        },
        "id": "Eze0mxnhLmHp",
        "outputId": "ecc4958c-7ada-4db3-fc6c-29b242109c16"
      },
      "execution_count": null,
      "outputs": [
        {
          "output_type": "stream",
          "name": "stdout",
          "text": [
            "0100,0011,1010,1001\n",
            "1010\n"
          ]
        }
      ]
    },
    {
      "cell_type": "markdown",
      "source": [
        "Answer 12"
      ],
      "metadata": {
        "id": "NwjvXQ-kOFl1"
      }
    },
    {
      "cell_type": "code",
      "source": [
        ""
      ],
      "metadata": {
        "colab": {
          "base_uri": "https://localhost:8080/",
          "height": 235
        },
        "id": "FBM5khm9OG6c",
        "outputId": "9a13cdb2-95e0-45ed-df00-7f903bbb0100"
      },
      "execution_count": null,
      "outputs": [
        {
          "output_type": "error",
          "ename": "TypeError",
          "evalue": "ignored",
          "traceback": [
            "\u001b[0;31m---------------------------------------------------------------------------\u001b[0m",
            "\u001b[0;31mTypeError\u001b[0m                                 Traceback (most recent call last)",
            "\u001b[0;32m<ipython-input-34-b7171c8605b1>\u001b[0m in \u001b[0;36m<module>\u001b[0;34m()\u001b[0m\n\u001b[1;32m      4\u001b[0m \u001b[0;32mfor\u001b[0m \u001b[0mnum\u001b[0m \u001b[0;32min\u001b[0m \u001b[0mrange\u001b[0m\u001b[0;34m(\u001b[0m\u001b[0;36m1000\u001b[0m\u001b[0;34m,\u001b[0m \u001b[0;36m3001\u001b[0m\u001b[0;34m)\u001b[0m\u001b[0;34m:\u001b[0m\u001b[0;34m\u001b[0m\u001b[0;34m\u001b[0m\u001b[0m\n\u001b[1;32m      5\u001b[0m \u001b[0;34m\u001b[0m\u001b[0m\n\u001b[0;32m----> 6\u001b[0;31m         \u001b[0mnum_str\u001b[0m \u001b[0;34m=\u001b[0m \u001b[0mstr\u001b[0m\u001b[0;34m(\u001b[0m\u001b[0mnum\u001b[0m\u001b[0;34m)\u001b[0m\u001b[0;34m\u001b[0m\u001b[0;34m\u001b[0m\u001b[0m\n\u001b[0m\u001b[1;32m      7\u001b[0m         \u001b[0mis_ok\u001b[0m \u001b[0;34m=\u001b[0m \u001b[0;32mTrue\u001b[0m\u001b[0;34m\u001b[0m\u001b[0;34m\u001b[0m\u001b[0m\n\u001b[1;32m      8\u001b[0m \u001b[0;34m\u001b[0m\u001b[0m\n",
            "\u001b[0;31mTypeError\u001b[0m: 'module' object is not callable"
          ]
        }
      ]
    },
    {
      "cell_type": "markdown",
      "source": [
        "Answer 13"
      ],
      "metadata": {
        "id": "hrUX2NeRQDqz"
      }
    },
    {
      "cell_type": "code",
      "source": [
        "str = input()\n",
        "l,d = 0,0\n",
        "\n",
        "for i in str:\n",
        "    if ('a'<=i and i<='z') or ('A'<=i and i<='Z'):\n",
        "        l+=1\n",
        "    if '0'<=i and i<='9':\n",
        "        d+=1\n",
        "print(\"LETTERS  \",l ,\"\\nDIGITS  \",d)"
      ],
      "metadata": {
        "colab": {
          "base_uri": "https://localhost:8080/"
        },
        "id": "I-kLcjlFQIv-",
        "outputId": "ebfc9a5b-bb2c-4bac-a9f4-1b8ed6aed1bf"
      },
      "execution_count": null,
      "outputs": [
        {
          "output_type": "stream",
          "name": "stdout",
          "text": [
            "hello world! 123\n",
            "LETTERS  10 \n",
            "DIGITS  3\n",
            "LETTERS 10\n",
            "DIGITS 3\n"
          ]
        }
      ]
    },
    {
      "cell_type": "markdown",
      "source": [
        "Answer 14"
      ],
      "metadata": {
        "id": "EyjOzXwnQ4nc"
      }
    },
    {
      "cell_type": "code",
      "source": [
        "str = input()\n",
        "upper,lower = 0,0\n",
        "\n",
        "for i in str:\n",
        "    if 'a'<=i and i<='z' :\n",
        "        lower+=1\n",
        "    if 'A'<=i and i<='Z':\n",
        "        upper+=1\n",
        "print(\"UPPER CASE  \",upper,\"\\nLOWER CASE  \",lower)"
      ],
      "metadata": {
        "colab": {
          "base_uri": "https://localhost:8080/"
        },
        "id": "mIwR79wKQ6GF",
        "outputId": "62a4659d-792b-45b7-a395-b3fa5783cfd7"
      },
      "execution_count": null,
      "outputs": [
        {
          "output_type": "stream",
          "name": "stdout",
          "text": [
            "Hello world!\n",
            "UPPER CASE   1 \n",
            "LOWER CASE   9\n"
          ]
        }
      ]
    },
    {
      "cell_type": "markdown",
      "source": [
        "Answer 15"
      ],
      "metadata": {
        "id": "F_cBx-kDRcIc"
      }
    },
    {
      "cell_type": "code",
      "source": [
        "num = input()\n",
        "sum = int(num) + int(2*num) + int(3*num) + int(4*num) \n",
        "print(sum)"
      ],
      "metadata": {
        "colab": {
          "base_uri": "https://localhost:8080/"
        },
        "id": "RN4EPFFhRevZ",
        "outputId": "b911371a-d40a-4464-d3f2-68c9d1e6a72b"
      },
      "execution_count": null,
      "outputs": [
        {
          "output_type": "stream",
          "name": "stdout",
          "text": [
            "9\n",
            "11106\n"
          ]
        }
      ]
    },
    {
      "cell_type": "markdown",
      "source": [
        "ANswer 16"
      ],
      "metadata": {
        "id": "UMEanlKsR6F6"
      }
    },
    {
      "cell_type": "code",
      "source": [
        "list = input().split(',') \n",
        "res = []\n",
        "list = [int(i) for i in list]\n",
        "for i in list:\n",
        "        if i%2 != 0:\n",
        "                i = i*i\n",
        "                i=\"{}\".format(i)\n",
        "                res.append(i)\n",
        "print(\",\".join(res))"
      ],
      "metadata": {
        "colab": {
          "base_uri": "https://localhost:8080/"
        },
        "id": "aHKU-S43R7Ik",
        "outputId": "4fa2381c-8678-46b0-af0e-6aa1a3ff945a"
      },
      "execution_count": null,
      "outputs": [
        {
          "output_type": "stream",
          "name": "stdout",
          "text": [
            "1,2,3,4,5,6,7,8,9\n",
            "1,9,25,49,81\n"
          ]
        }
      ]
    },
    {
      "cell_type": "markdown",
      "source": [
        "Answer 17"
      ],
      "metadata": {
        "id": "I-2Zoa0mUCC1"
      }
    },
    {
      "cell_type": "code",
      "source": [
        "sum = 0\n",
        "\n",
        "while True:\n",
        "    string = input()\n",
        "    trans = string.split(\" \")\n",
        "    types = trans[0]\n",
        "    amount=int(trans[1])\n",
        "    if types==\"D\" or types==\"d\":\n",
        "\t\t    sum += amount\n",
        "    elif types==\"W\" or types==\"w\":\n",
        "\t\t    sum -= amount\n",
        "        \n",
        "print (\"Net amount: \", sum)"
      ],
      "metadata": {
        "colab": {
          "base_uri": "https://localhost:8080/",
          "height": 322
        },
        "id": "iq4VE3caUBp-",
        "outputId": "047fcb6a-9397-4a0a-d86c-778ad31676df"
      },
      "execution_count": null,
      "outputs": [
        {
          "name": "stdout",
          "output_type": "stream",
          "text": [
            "D 300\n",
            "D 300\n",
            "W 100\n",
            "D 200\n",
            "\n"
          ]
        },
        {
          "output_type": "error",
          "ename": "IndexError",
          "evalue": "ignored",
          "traceback": [
            "\u001b[0;31m---------------------------------------------------------------------------\u001b[0m",
            "\u001b[0;31mIndexError\u001b[0m                                Traceback (most recent call last)",
            "\u001b[0;32m<ipython-input-55-ef9596b8f382>\u001b[0m in \u001b[0;36m<module>\u001b[0;34m()\u001b[0m\n\u001b[1;32m      5\u001b[0m     \u001b[0mtrans\u001b[0m \u001b[0;34m=\u001b[0m \u001b[0mstring\u001b[0m\u001b[0;34m.\u001b[0m\u001b[0msplit\u001b[0m\u001b[0;34m(\u001b[0m\u001b[0;34m\" \"\u001b[0m\u001b[0;34m)\u001b[0m\u001b[0;34m\u001b[0m\u001b[0;34m\u001b[0m\u001b[0m\n\u001b[1;32m      6\u001b[0m     \u001b[0mtypes\u001b[0m \u001b[0;34m=\u001b[0m \u001b[0mtrans\u001b[0m\u001b[0;34m[\u001b[0m\u001b[0;36m0\u001b[0m\u001b[0;34m]\u001b[0m\u001b[0;34m\u001b[0m\u001b[0;34m\u001b[0m\u001b[0m\n\u001b[0;32m----> 7\u001b[0;31m     \u001b[0mamount\u001b[0m\u001b[0;34m=\u001b[0m\u001b[0mint\u001b[0m\u001b[0;34m(\u001b[0m\u001b[0mtrans\u001b[0m\u001b[0;34m[\u001b[0m\u001b[0;36m1\u001b[0m\u001b[0;34m]\u001b[0m\u001b[0;34m)\u001b[0m\u001b[0;34m\u001b[0m\u001b[0;34m\u001b[0m\u001b[0m\n\u001b[0m\u001b[1;32m      8\u001b[0m     \u001b[0;32mif\u001b[0m \u001b[0mtypes\u001b[0m\u001b[0;34m==\u001b[0m\u001b[0;34m\"D\"\u001b[0m \u001b[0;32mor\u001b[0m \u001b[0mtypes\u001b[0m\u001b[0;34m==\u001b[0m\u001b[0;34m\"d\"\u001b[0m\u001b[0;34m:\u001b[0m\u001b[0;34m\u001b[0m\u001b[0;34m\u001b[0m\u001b[0m\n\u001b[1;32m      9\u001b[0m                     \u001b[0msum\u001b[0m \u001b[0;34m+=\u001b[0m \u001b[0mamount\u001b[0m\u001b[0;34m\u001b[0m\u001b[0;34m\u001b[0m\u001b[0m\n",
            "\u001b[0;31mIndexError\u001b[0m: list index out of range"
          ]
        }
      ]
    },
    {
      "cell_type": "markdown",
      "source": [
        "Answer 18"
      ],
      "metadata": {
        "id": "IpeiBck9evt0"
      }
    },
    {
      "cell_type": "code",
      "source": [
        "import re \n",
        "pwdlst=['a F1#','ABd1234@1','2w3E*','2We3345']\n",
        "for i in pwdlst:\n",
        "    leng=len(i)\n",
        "    if((5<leng<17)) and re.search(\"[a-z]\",i) and re.search(\"[A-Z]\",i) and re.search(\"[0-9]\",i) and re.search(\"[$#@]\",i) :\n",
        "        print(i)\n",
        "    else:\n",
        "        continue"
      ],
      "metadata": {
        "colab": {
          "base_uri": "https://localhost:8080/"
        },
        "id": "uGKvKPxDeyPh",
        "outputId": "24552fab-af70-4c1f-af46-aa4c221a133c"
      },
      "execution_count": null,
      "outputs": [
        {
          "output_type": "stream",
          "name": "stdout",
          "text": [
            "ABd1234@1\n"
          ]
        }
      ]
    },
    {
      "cell_type": "markdown",
      "source": [
        "Answer 19"
      ],
      "metadata": {
        "id": "tto6OVGtf0xA"
      }
    },
    {
      "cell_type": "code",
      "source": [
        "from operator import itemgetter\n",
        "\n",
        "l = []\n",
        "while True:\n",
        "    s = input()\n",
        "    if not s:\n",
        "        break\n",
        "    n=tuple(s.split(\",\"))\n",
        "    l.append(n)\n",
        "\n",
        "l.sort(key =  itemgetter(0, 1, 2))       \n",
        "print(l)"
      ],
      "metadata": {
        "colab": {
          "base_uri": "https://localhost:8080/",
          "height": 253
        },
        "id": "CiQ4xJXVf192",
        "outputId": "f8076154-ed06-419d-afe7-809d9b78363f"
      },
      "execution_count": 59,
      "outputs": [
        {
          "name": "stdout",
          "output_type": "stream",
          "text": [
            "Tom,16,17\n"
          ]
        },
        {
          "output_type": "error",
          "ename": "TypeError",
          "evalue": "ignored",
          "traceback": [
            "\u001b[0;31m---------------------------------------------------------------------------\u001b[0m",
            "\u001b[0;31mTypeError\u001b[0m                                 Traceback (most recent call last)",
            "\u001b[0;32m<ipython-input-59-2cd11956c425>\u001b[0m in \u001b[0;36m<module>\u001b[0;34m()\u001b[0m\n\u001b[1;32m      6\u001b[0m     \u001b[0;32mif\u001b[0m \u001b[0;32mnot\u001b[0m \u001b[0ms\u001b[0m\u001b[0;34m:\u001b[0m\u001b[0;34m\u001b[0m\u001b[0;34m\u001b[0m\u001b[0m\n\u001b[1;32m      7\u001b[0m         \u001b[0;32mbreak\u001b[0m\u001b[0;34m\u001b[0m\u001b[0;34m\u001b[0m\u001b[0m\n\u001b[0;32m----> 8\u001b[0;31m     \u001b[0mn\u001b[0m\u001b[0;34m=\u001b[0m\u001b[0mtuple\u001b[0m\u001b[0;34m(\u001b[0m\u001b[0ms\u001b[0m\u001b[0;34m.\u001b[0m\u001b[0msplit\u001b[0m\u001b[0;34m(\u001b[0m\u001b[0;34m\",\"\u001b[0m\u001b[0;34m)\u001b[0m\u001b[0;34m)\u001b[0m\u001b[0;34m\u001b[0m\u001b[0;34m\u001b[0m\u001b[0m\n\u001b[0m\u001b[1;32m      9\u001b[0m     \u001b[0ml\u001b[0m\u001b[0;34m.\u001b[0m\u001b[0mappend\u001b[0m\u001b[0;34m(\u001b[0m\u001b[0mn\u001b[0m\u001b[0;34m)\u001b[0m\u001b[0;34m\u001b[0m\u001b[0;34m\u001b[0m\u001b[0m\n\u001b[1;32m     10\u001b[0m \u001b[0;34m\u001b[0m\u001b[0m\n",
            "\u001b[0;31mTypeError\u001b[0m: 'tuple' object is not callable"
          ]
        }
      ]
    },
    {
      "cell_type": "markdown",
      "source": [
        "Answer 20"
      ],
      "metadata": {
        "id": "kkT8jgK3g9rL"
      }
    },
    {
      "cell_type": "code",
      "source": [
        "class iterator:\n",
        "    def __init__(self,n):\n",
        "        self.n = n\n",
        "\n",
        "    def generating(self):\n",
        "        l=[]\n",
        "        for i in range(0,self.n):\n",
        "          if(i%7==0):\n",
        "            l.append(i)\n",
        "        print(l)\n",
        "\n",
        "\n",
        "obj = iterator(50)\n",
        "obj.generating()"
      ],
      "metadata": {
        "id": "tQ9iEn59hByD",
        "colab": {
          "base_uri": "https://localhost:8080/"
        },
        "outputId": "e82da0b2-c228-4fa9-fa3f-11d260785e19"
      },
      "execution_count": 61,
      "outputs": [
        {
          "output_type": "stream",
          "name": "stdout",
          "text": [
            "[0, 7, 14, 21, 28, 35, 42, 49]\n"
          ]
        }
      ]
    },
    {
      "cell_type": "markdown",
      "source": [
        "Answer 21"
      ],
      "metadata": {
        "id": "3T7-aEB7jwtv"
      }
    },
    {
      "cell_type": "code",
      "source": [
        "import math\n",
        "x=0\n",
        "y=0\n",
        "lt=[]\n",
        "for i in range(0,4):\n",
        "    str=input()\n",
        "    lt.append(str)\n",
        "for i in lt:\n",
        "    i=i.split(\" \")\n",
        "    if i[0]==\"up\":\n",
        "        y+=int(i[1])\n",
        "    elif i[0]==\"down\":\n",
        "        y-=int(i[1])\n",
        "    elif i[0]==\"right\":\n",
        "        x+=int(i[1])\n",
        "    elif i[0]==\"left\":\n",
        "        y-=int(i[1])\n",
        "\n",
        "dist=round(math.sqrt((x**2)+(y**2)))\n",
        "print(\"Distance is : \",dist)"
      ],
      "metadata": {
        "colab": {
          "base_uri": "https://localhost:8080/"
        },
        "id": "9w2oLGz4jzJ_",
        "outputId": "e42b5608-f51e-400e-c28e-92dc5932f5d0"
      },
      "execution_count": 62,
      "outputs": [
        {
          "output_type": "stream",
          "name": "stdout",
          "text": [
            "up 5\n",
            "down 3\n",
            "left 3\n",
            "right 2\n",
            "Distance is :  2\n"
          ]
        }
      ]
    },
    {
      "cell_type": "markdown",
      "source": [
        "Answer 22"
      ],
      "metadata": {
        "id": "JNf6NDTslBwC"
      }
    },
    {
      "cell_type": "code",
      "source": [
        "string = input().split()\n",
        "word = sorted(set(string))\n",
        "\n",
        "for i in word:\n",
        "    print(i,\":\",string.count(i))"
      ],
      "metadata": {
        "colab": {
          "base_uri": "https://localhost:8080/"
        },
        "id": "hOCbfpz0lC-d",
        "outputId": "fe718687-ced6-4f27-e099-04ef06beebec"
      },
      "execution_count": 64,
      "outputs": [
        {
          "output_type": "stream",
          "name": "stdout",
          "text": [
            "New to Python or choosing between Python 2 and Python 3? Read Python 2 or Python 3.\n",
            "2 : 2\n",
            "3. : 1\n",
            "3? : 1\n",
            "New : 1\n",
            "Python : 5\n",
            "Read : 1\n",
            "and : 1\n",
            "between : 1\n",
            "choosing : 1\n",
            "or : 2\n",
            "to : 1\n"
          ]
        }
      ]
    },
    {
      "cell_type": "markdown",
      "source": [
        ""
      ],
      "metadata": {
        "id": "-CyTwWeBlf5M"
      }
    },
    {
      "cell_type": "markdown",
      "source": [
        "Answer 23\n"
      ],
      "metadata": {
        "id": "fyvLrhCllgBS"
      }
    },
    {
      "cell_type": "code",
      "source": [
        "def calculate(n):\n",
        "    sqr=n*n\n",
        "    return sqr\n",
        "\n",
        "num=int(input(\"Enter Number : \"))\n",
        "print(calculate(num))"
      ],
      "metadata": {
        "colab": {
          "base_uri": "https://localhost:8080/"
        },
        "id": "YZaC2Pp5lju4",
        "outputId": "ee718751-9912-4a8b-e32d-2475679383ef"
      },
      "execution_count": 66,
      "outputs": [
        {
          "output_type": "stream",
          "name": "stdout",
          "text": [
            "Enter Number : 5\n",
            "25\n"
          ]
        }
      ]
    },
    {
      "cell_type": "markdown",
      "source": [
        "Answe 24"
      ],
      "metadata": {
        "id": "M7gbIKMcmU0f"
      }
    },
    {
      "cell_type": "code",
      "source": [
        "print (abs.__doc__)\n",
        "print (int.__doc__)\n",
        "print (input.__doc__)\n",
        "\n",
        "def mul(num):\n",
        "    return num * 9\n",
        "\n",
        "print (mul(2))\n",
        "print (mul.__doc__)"
      ],
      "metadata": {
        "colab": {
          "base_uri": "https://localhost:8080/"
        },
        "id": "O0sqXThWmV9R",
        "outputId": "ed0c5ae0-8223-4427-aff6-03a64080a1c2"
      },
      "execution_count": 67,
      "outputs": [
        {
          "output_type": "stream",
          "name": "stdout",
          "text": [
            "Return the absolute value of the argument.\n",
            "int([x]) -> integer\n",
            "int(x, base=10) -> integer\n",
            "\n",
            "Convert a number or string to an integer, or return 0 if no arguments\n",
            "are given.  If x is a number, return x.__int__().  For floating point\n",
            "numbers, this truncates towards zero.\n",
            "\n",
            "If x is not a number or if base is given, then x must be a string,\n",
            "bytes, or bytearray instance representing an integer literal in the\n",
            "given base.  The literal can be preceded by '+' or '-' and be surrounded\n",
            "by whitespace.  The base defaults to 10.  Valid bases are 0 and 2-36.\n",
            "Base 0 means to interpret the base from the string as an integer literal.\n",
            ">>> int('0b100', base=0)\n",
            "4\n",
            "Forward raw_input to frontends\n",
            "\n",
            "        Raises\n",
            "        ------\n",
            "        StdinNotImplentedError if active frontend doesn't support stdin.\n",
            "        \n",
            "18\n",
            "None\n"
          ]
        }
      ]
    },
    {
      "cell_type": "markdown",
      "source": [
        "Answer 25"
      ],
      "metadata": {
        "id": "km98SVz8m3_n"
      }
    },
    {
      "cell_type": "code",
      "source": [
        "class Person:\n",
        "    name = \"Student\"\n",
        "\n",
        "    def __init__(self,name = None):\n",
        "        self.name = name\n",
        "\n",
        "Tanya=Person()\n",
        "Tanya.name=\"Tanya\"\n",
        "print(Person.name,\" name is \",Tanya.name)"
      ],
      "metadata": {
        "colab": {
          "base_uri": "https://localhost:8080/"
        },
        "id": "Ijf1WCTtm5L1",
        "outputId": "e6837102-a92a-4208-871d-a15d9042e89e"
      },
      "execution_count": 70,
      "outputs": [
        {
          "output_type": "stream",
          "name": "stdout",
          "text": [
            "Student  name is  Tanya\n"
          ]
        }
      ]
    },
    {
      "cell_type": "markdown",
      "source": [
        "Answer 26"
      ],
      "metadata": {
        "id": "tylxkUbQoR5T"
      }
    },
    {
      "cell_type": "code",
      "source": [
        "def add(a,b):\n",
        "  return a+b    \n",
        "print(add(1,2))"
      ],
      "metadata": {
        "colab": {
          "base_uri": "https://localhost:8080/"
        },
        "id": "NBLCZZ83oTpE",
        "outputId": "413a0802-95e7-4313-ebb9-e95d72ca38a3"
      },
      "execution_count": 72,
      "outputs": [
        {
          "output_type": "stream",
          "name": "stdout",
          "text": [
            "3\n"
          ]
        }
      ]
    },
    {
      "cell_type": "markdown",
      "source": [
        "Answer 27"
      ],
      "metadata": {
        "id": "HCn22OQdofvd"
      }
    },
    {
      "cell_type": "code",
      "source": [
        "def converter(n):\n",
        "  i=\"{}\".format(n)\n",
        "  return(i)\n",
        "\n",
        "print(converter(3))"
      ],
      "metadata": {
        "colab": {
          "base_uri": "https://localhost:8080/"
        },
        "id": "8ZmoXgUOojmt",
        "outputId": "053a8835-8a91-4b06-aabe-d767ad7a7ce0"
      },
      "execution_count": 75,
      "outputs": [
        {
          "output_type": "stream",
          "name": "stdout",
          "text": [
            "3\n"
          ]
        }
      ]
    },
    {
      "cell_type": "markdown",
      "source": [
        "Answer 28"
      ],
      "metadata": {
        "id": "L4wJJ139pGis"
      }
    },
    {
      "cell_type": "code",
      "source": [
        "def sum(s1,s2):\n",
        "\tprint(int(s1) + int(s2))\n",
        "sum(\"3\",\"4\") "
      ],
      "metadata": {
        "colab": {
          "base_uri": "https://localhost:8080/"
        },
        "id": "a-wLT0SGpHs2",
        "outputId": "453b9fcd-b2f6-4fe7-a9c6-beeb76696ca5"
      },
      "execution_count": 77,
      "outputs": [
        {
          "output_type": "stream",
          "name": "stdout",
          "text": [
            "7\n"
          ]
        }
      ]
    },
    {
      "cell_type": "markdown",
      "source": [
        "Answer 29"
      ],
      "metadata": {
        "id": "0bNcdLHkpUgC"
      }
    },
    {
      "cell_type": "code",
      "source": [
        "def concating(s1,s2):\n",
        "\tprint(s1 + s2)\n",
        "\n",
        "concating(\"Tanya\",\"Gupta\")"
      ],
      "metadata": {
        "colab": {
          "base_uri": "https://localhost:8080/"
        },
        "id": "pJJvGS0wpVsw",
        "outputId": "f3c42568-dfa3-43b9-e9a9-13cd174b27e8"
      },
      "execution_count": 80,
      "outputs": [
        {
          "output_type": "stream",
          "name": "stdout",
          "text": [
            "TanyaGupta\n"
          ]
        }
      ]
    },
    {
      "cell_type": "markdown",
      "source": [
        "Answer 30"
      ],
      "metadata": {
        "id": "oTqMq2VuppIu"
      }
    },
    {
      "cell_type": "code",
      "source": [
        "def LengthCalc(s1,s2):\n",
        "    l1 = len(s1)\n",
        "    l2 = len(s2)\n",
        "    if l1 > l2:\n",
        "        print(s1)\n",
        "    elif l1 < l2:\n",
        "        print(s2)\n",
        "    else:\n",
        "        print(s1)\n",
        "        print(s2)\n",
        "\n",
        "s1,s2=input().split()\n",
        "LengthCalc(s1,s2)"
      ],
      "metadata": {
        "colab": {
          "base_uri": "https://localhost:8080/"
        },
        "id": "o2Otc1BvpqQ1",
        "outputId": "9940f5e1-d5e5-4a02-977e-5b8c41f1c19c"
      },
      "execution_count": 81,
      "outputs": [
        {
          "output_type": "stream",
          "name": "stdout",
          "text": [
            "Tanya Guptaa\n",
            "Guptaa\n"
          ]
        }
      ]
    },
    {
      "cell_type": "markdown",
      "source": [
        "Answer 31\n"
      ],
      "metadata": {
        "id": "z9r5MQpsqoDW"
      }
    },
    {
      "cell_type": "code",
      "source": [
        "def square():\n",
        "    dict={i:i**2 for i in range(1,21)} \n",
        "    print(dict)\n",
        "\n",
        "square()"
      ],
      "metadata": {
        "colab": {
          "base_uri": "https://localhost:8080/"
        },
        "id": "CLTI1LZmqp7c",
        "outputId": "61980a44-5880-42a0-e7f3-338e005c246a"
      },
      "execution_count": 84,
      "outputs": [
        {
          "output_type": "stream",
          "name": "stdout",
          "text": [
            "{1: 1, 2: 4, 3: 9, 4: 16, 5: 25, 6: 36, 7: 49, 8: 64, 9: 81, 10: 100, 11: 121, 12: 144, 13: 169, 14: 196, 15: 225, 16: 256, 17: 289, 18: 324, 19: 361, 20: 400}\n"
          ]
        }
      ]
    },
    {
      "cell_type": "markdown",
      "source": [
        "Answer 32"
      ],
      "metadata": {
        "id": "r4wtBQDHreMb"
      }
    },
    {
      "cell_type": "code",
      "source": [
        "def square():\n",
        "    dict={i:i**2 for i in range(1,21)} \n",
        "    print(dict.keys())\n",
        "\n",
        "square()"
      ],
      "metadata": {
        "colab": {
          "base_uri": "https://localhost:8080/"
        },
        "id": "xDqu1R5srfoU",
        "outputId": "a9aab94b-ef6c-4f70-c4d4-76c612abd340"
      },
      "execution_count": 85,
      "outputs": [
        {
          "output_type": "stream",
          "name": "stdout",
          "text": [
            "dict_keys([1, 2, 3, 4, 5, 6, 7, 8, 9, 10, 11, 12, 13, 14, 15, 16, 17, 18, 19, 20])\n"
          ]
        }
      ]
    },
    {
      "cell_type": "markdown",
      "source": [
        "Answer 33"
      ],
      "metadata": {
        "id": "2LEkoDF-sYOF"
      }
    },
    {
      "cell_type": "code",
      "source": [
        "def square():\n",
        "\tlst=[]\n",
        "\tfor i in range(1,21):\n",
        "\t\tlst.append(i**2)\n",
        "\tprint (lst)\n",
        "\n",
        "square()"
      ],
      "metadata": {
        "colab": {
          "base_uri": "https://localhost:8080/"
        },
        "id": "ratbxIIzsZcK",
        "outputId": "14f985d0-5fc8-41d0-c504-74a3af50b221"
      },
      "execution_count": 86,
      "outputs": [
        {
          "output_type": "stream",
          "name": "stdout",
          "text": [
            "[1, 4, 9, 16, 25, 36, 49, 64, 81, 100, 121, 144, 169, 196, 225, 256, 289, 324, 361, 400]\n"
          ]
        }
      ]
    },
    {
      "cell_type": "markdown",
      "source": [
        "Answer 34"
      ],
      "metadata": {
        "id": "QeEYgYObsaPO"
      }
    },
    {
      "cell_type": "code",
      "source": [
        "def square():\n",
        "\tlst=[]\n",
        "\tfor i in range(1,21):\n",
        "\t\tlst.append(i**2)\n",
        "\tprint (lst[:5])\n",
        "\n",
        "square()"
      ],
      "metadata": {
        "colab": {
          "base_uri": "https://localhost:8080/"
        },
        "id": "KrtBPa5bsbYw",
        "outputId": "1949c858-5806-459d-f4c7-e24a6e57ada1"
      },
      "execution_count": 87,
      "outputs": [
        {
          "output_type": "stream",
          "name": "stdout",
          "text": [
            "[1, 4, 9, 16, 25]\n"
          ]
        }
      ]
    },
    {
      "cell_type": "markdown",
      "source": [
        "Answer 35"
      ],
      "metadata": {
        "id": "0qlC5G_LsblX"
      }
    },
    {
      "cell_type": "code",
      "source": [
        "def square():\n",
        "\tlst=[]\n",
        "\tfor i in range(1,21):\n",
        "\t\tlst.append(i**2)\n",
        "\tprint (lst[-5:])\n",
        "\n",
        "square()"
      ],
      "metadata": {
        "colab": {
          "base_uri": "https://localhost:8080/"
        },
        "id": "OnhYfBadscw8",
        "outputId": "cf5379dc-5e85-408a-be15-9bce0c5bb4dd"
      },
      "execution_count": 88,
      "outputs": [
        {
          "output_type": "stream",
          "name": "stdout",
          "text": [
            "[256, 289, 324, 361, 400]\n"
          ]
        }
      ]
    },
    {
      "cell_type": "markdown",
      "source": [
        "Answer 36"
      ],
      "metadata": {
        "id": "maI3rcqMsc66"
      }
    },
    {
      "cell_type": "code",
      "source": [
        "def square():\n",
        "\tlst=[]\n",
        "\tfor i in range(1,21):\n",
        "\t\tlst.append(i**2)\n",
        "\tprint (lst[5:])\n",
        "\n",
        "square()"
      ],
      "metadata": {
        "colab": {
          "base_uri": "https://localhost:8080/"
        },
        "id": "CoU8NgkiseBY",
        "outputId": "1c2965a7-d3ff-4bdd-ea76-4b89ce895e55"
      },
      "execution_count": 89,
      "outputs": [
        {
          "output_type": "stream",
          "name": "stdout",
          "text": [
            "[36, 49, 64, 81, 100, 121, 144, 169, 196, 225, 256, 289, 324, 361, 400]\n"
          ]
        }
      ]
    },
    {
      "cell_type": "markdown",
      "source": [
        "Answer 37"
      ],
      "metadata": {
        "id": "vIbjlZYeseKl"
      }
    },
    {
      "cell_type": "code",
      "source": [
        "def square():\n",
        "    return (tuple(i ** 2 for i in range(1, 21)))\n",
        "\n",
        "print(square())"
      ],
      "metadata": {
        "colab": {
          "base_uri": "https://localhost:8080/",
          "height": 305
        },
        "id": "oj-KAyyesfYr",
        "outputId": "846743b1-6f9d-4d96-e91d-801a9e4e59de"
      },
      "execution_count": 96,
      "outputs": [
        {
          "output_type": "error",
          "ename": "TypeError",
          "evalue": "ignored",
          "traceback": [
            "\u001b[0;31m---------------------------------------------------------------------------\u001b[0m",
            "\u001b[0;31mTypeError\u001b[0m                                 Traceback (most recent call last)",
            "\u001b[0;32m<ipython-input-96-7d6225315ce2>\u001b[0m in \u001b[0;36m<module>\u001b[0;34m()\u001b[0m\n\u001b[1;32m      2\u001b[0m     \u001b[0;32mreturn\u001b[0m \u001b[0;34m(\u001b[0m\u001b[0mtuple\u001b[0m\u001b[0;34m(\u001b[0m\u001b[0mi\u001b[0m \u001b[0;34m**\u001b[0m \u001b[0;36m2\u001b[0m \u001b[0;32mfor\u001b[0m \u001b[0mi\u001b[0m \u001b[0;32min\u001b[0m \u001b[0mrange\u001b[0m\u001b[0;34m(\u001b[0m\u001b[0;36m1\u001b[0m\u001b[0;34m,\u001b[0m \u001b[0;36m21\u001b[0m\u001b[0;34m)\u001b[0m\u001b[0;34m)\u001b[0m\u001b[0;34m)\u001b[0m\u001b[0;34m\u001b[0m\u001b[0;34m\u001b[0m\u001b[0m\n\u001b[1;32m      3\u001b[0m \u001b[0;34m\u001b[0m\u001b[0m\n\u001b[0;32m----> 4\u001b[0;31m \u001b[0mprint\u001b[0m\u001b[0;34m(\u001b[0m\u001b[0msquare\u001b[0m\u001b[0;34m(\u001b[0m\u001b[0;34m)\u001b[0m\u001b[0;34m)\u001b[0m\u001b[0;34m\u001b[0m\u001b[0;34m\u001b[0m\u001b[0m\n\u001b[0m",
            "\u001b[0;32m<ipython-input-96-7d6225315ce2>\u001b[0m in \u001b[0;36msquare\u001b[0;34m()\u001b[0m\n\u001b[1;32m      1\u001b[0m \u001b[0;32mdef\u001b[0m \u001b[0msquare\u001b[0m\u001b[0;34m(\u001b[0m\u001b[0;34m)\u001b[0m\u001b[0;34m:\u001b[0m\u001b[0;34m\u001b[0m\u001b[0;34m\u001b[0m\u001b[0m\n\u001b[0;32m----> 2\u001b[0;31m     \u001b[0;32mreturn\u001b[0m \u001b[0;34m(\u001b[0m\u001b[0mtuple\u001b[0m\u001b[0;34m(\u001b[0m\u001b[0mi\u001b[0m \u001b[0;34m**\u001b[0m \u001b[0;36m2\u001b[0m \u001b[0;32mfor\u001b[0m \u001b[0mi\u001b[0m \u001b[0;32min\u001b[0m \u001b[0mrange\u001b[0m\u001b[0;34m(\u001b[0m\u001b[0;36m1\u001b[0m\u001b[0;34m,\u001b[0m \u001b[0;36m21\u001b[0m\u001b[0;34m)\u001b[0m\u001b[0;34m)\u001b[0m\u001b[0;34m)\u001b[0m\u001b[0;34m\u001b[0m\u001b[0;34m\u001b[0m\u001b[0m\n\u001b[0m\u001b[1;32m      3\u001b[0m \u001b[0;34m\u001b[0m\u001b[0m\n\u001b[1;32m      4\u001b[0m \u001b[0mprint\u001b[0m\u001b[0;34m(\u001b[0m\u001b[0msquare\u001b[0m\u001b[0;34m(\u001b[0m\u001b[0;34m)\u001b[0m\u001b[0;34m)\u001b[0m\u001b[0;34m\u001b[0m\u001b[0;34m\u001b[0m\u001b[0m\n",
            "\u001b[0;31mTypeError\u001b[0m: 'tuple' object is not callable"
          ]
        }
      ]
    },
    {
      "cell_type": "markdown",
      "source": [
        "Answer 38"
      ],
      "metadata": {
        "id": "wVULD-PesfhY"
      }
    },
    {
      "cell_type": "code",
      "source": [
        "tup = (1,2,3,4,5,6,7,8,9,10)\n",
        "print(tup[:5])\n",
        "print(tup[5:])"
      ],
      "metadata": {
        "colab": {
          "base_uri": "https://localhost:8080/"
        },
        "id": "97QSb03tsggo",
        "outputId": "b0752a8f-d2a3-4d47-a399-aabdfb81b567"
      },
      "execution_count": 97,
      "outputs": [
        {
          "output_type": "stream",
          "name": "stdout",
          "text": [
            "(1, 2, 3, 4, 5)\n",
            "(6, 7, 8, 9, 10)\n"
          ]
        }
      ]
    },
    {
      "cell_type": "markdown",
      "source": [
        "Answer 39"
      ],
      "metadata": {
        "id": "PW7lX9nQsgxB"
      }
    },
    {
      "cell_type": "code",
      "source": [
        "tup = (1,2,3,4,5,6,7,8,9,10)\n",
        "lst = []\n",
        "for i in tup:\n",
        "\tif i%2 == 0:\n",
        "\t\tlst.append(i)\n",
        "\n",
        "print(lst)"
      ],
      "metadata": {
        "colab": {
          "base_uri": "https://localhost:8080/"
        },
        "id": "aPJ5hQ6HsiqR",
        "outputId": "30e46fc2-a1d7-4263-a985-1bc88e369e71"
      },
      "execution_count": 102,
      "outputs": [
        {
          "output_type": "stream",
          "name": "stdout",
          "text": [
            "[2, 4, 6, 8, 10]\n"
          ]
        }
      ]
    },
    {
      "cell_type": "markdown",
      "source": [
        "Answer 40"
      ],
      "metadata": {
        "id": "5r-YkQovsi90"
      }
    },
    {
      "cell_type": "code",
      "source": [
        "s= input()\n",
        "if s==\"yes\" or s==\"YES\" or s==\"Yes\":\n",
        "    print(\"Yes\")\n",
        "else:\n",
        "    print(\"No\")"
      ],
      "metadata": {
        "colab": {
          "base_uri": "https://localhost:8080/"
        },
        "id": "2lBWJ_ycskqI",
        "outputId": "3d144c29-3109-4be6-ffdf-8a90455752f4"
      },
      "execution_count": 103,
      "outputs": [
        {
          "output_type": "stream",
          "name": "stdout",
          "text": [
            "yes\n",
            "Yes\n"
          ]
        }
      ]
    },
    {
      "cell_type": "markdown",
      "source": [
        "Answer 41"
      ],
      "metadata": {
        "id": "_DnFqzj0wfpO"
      }
    },
    {
      "cell_type": "code",
      "source": [
        "lst = [1,2,3,4,5,6,7,8,9,10]\n",
        "squares = map(lambda x: x**2, lst)\n",
        "print(squares)"
      ],
      "metadata": {
        "colab": {
          "base_uri": "https://localhost:8080/",
          "height": 201
        },
        "id": "opG8D5b8wgxA",
        "outputId": "c45b9508-3896-41f9-bd24-009a5803a201"
      },
      "execution_count": 107,
      "outputs": [
        {
          "output_type": "error",
          "ename": "TypeError",
          "evalue": "ignored",
          "traceback": [
            "\u001b[0;31m---------------------------------------------------------------------------\u001b[0m",
            "\u001b[0;31mTypeError\u001b[0m                                 Traceback (most recent call last)",
            "\u001b[0;32m<ipython-input-107-0a97747aff94>\u001b[0m in \u001b[0;36m<module>\u001b[0;34m()\u001b[0m\n\u001b[1;32m      1\u001b[0m \u001b[0mlst\u001b[0m \u001b[0;34m=\u001b[0m \u001b[0;34m[\u001b[0m\u001b[0;36m1\u001b[0m\u001b[0;34m,\u001b[0m\u001b[0;36m2\u001b[0m\u001b[0;34m,\u001b[0m\u001b[0;36m3\u001b[0m\u001b[0;34m,\u001b[0m\u001b[0;36m4\u001b[0m\u001b[0;34m,\u001b[0m\u001b[0;36m5\u001b[0m\u001b[0;34m,\u001b[0m\u001b[0;36m6\u001b[0m\u001b[0;34m,\u001b[0m\u001b[0;36m7\u001b[0m\u001b[0;34m,\u001b[0m\u001b[0;36m8\u001b[0m\u001b[0;34m,\u001b[0m\u001b[0;36m9\u001b[0m\u001b[0;34m,\u001b[0m\u001b[0;36m10\u001b[0m\u001b[0;34m]\u001b[0m\u001b[0;34m\u001b[0m\u001b[0;34m\u001b[0m\u001b[0m\n\u001b[1;32m      2\u001b[0m \u001b[0msquares\u001b[0m \u001b[0;34m=\u001b[0m \u001b[0mmap\u001b[0m\u001b[0;34m(\u001b[0m\u001b[0;32mlambda\u001b[0m \u001b[0mx\u001b[0m\u001b[0;34m:\u001b[0m \u001b[0mx\u001b[0m\u001b[0;34m**\u001b[0m\u001b[0;36m2\u001b[0m\u001b[0;34m,\u001b[0m \u001b[0mlst\u001b[0m\u001b[0;34m)\u001b[0m\u001b[0;34m\u001b[0m\u001b[0;34m\u001b[0m\u001b[0m\n\u001b[0;32m----> 3\u001b[0;31m \u001b[0mprint\u001b[0m\u001b[0;34m(\u001b[0m\u001b[0mlist\u001b[0m\u001b[0;34m(\u001b[0m\u001b[0msquares\u001b[0m\u001b[0;34m)\u001b[0m\u001b[0;34m)\u001b[0m\u001b[0;34m\u001b[0m\u001b[0;34m\u001b[0m\u001b[0m\n\u001b[0m",
            "\u001b[0;31mTypeError\u001b[0m: 'list' object is not callable"
          ]
        }
      ]
    },
    {
      "cell_type": "markdown",
      "source": [
        "Answer 42"
      ],
      "metadata": {
        "id": "72v-pjJzxAQ0"
      }
    },
    {
      "cell_type": "code",
      "source": [
        "def eve(x):\n",
        "    return x%2==0\n",
        "\n",
        "def sqr(x):\n",
        "    return x*x\n",
        "\n",
        "lst = [1,2,3,4,5,6,7,8,9,10]\n",
        "lst = map(sqr,filter(eve,lst))  \n",
        "print(list(lst))"
      ],
      "metadata": {
        "colab": {
          "base_uri": "https://localhost:8080/",
          "height": 201
        },
        "id": "0ad_P6CLxBVk",
        "outputId": "66e553be-5548-4b19-fab6-6bf4d45b7508"
      },
      "execution_count": 110,
      "outputs": [
        {
          "output_type": "error",
          "ename": "TypeError",
          "evalue": "ignored",
          "traceback": [
            "\u001b[0;31m---------------------------------------------------------------------------\u001b[0m",
            "\u001b[0;31mTypeError\u001b[0m                                 Traceback (most recent call last)",
            "\u001b[0;32m<ipython-input-110-e7e3a7316657>\u001b[0m in \u001b[0;36m<module>\u001b[0;34m()\u001b[0m\n\u001b[1;32m      7\u001b[0m \u001b[0mlst\u001b[0m \u001b[0;34m=\u001b[0m \u001b[0;34m[\u001b[0m\u001b[0;36m1\u001b[0m\u001b[0;34m,\u001b[0m\u001b[0;36m2\u001b[0m\u001b[0;34m,\u001b[0m\u001b[0;36m3\u001b[0m\u001b[0;34m,\u001b[0m\u001b[0;36m4\u001b[0m\u001b[0;34m,\u001b[0m\u001b[0;36m5\u001b[0m\u001b[0;34m,\u001b[0m\u001b[0;36m6\u001b[0m\u001b[0;34m,\u001b[0m\u001b[0;36m7\u001b[0m\u001b[0;34m,\u001b[0m\u001b[0;36m8\u001b[0m\u001b[0;34m,\u001b[0m\u001b[0;36m9\u001b[0m\u001b[0;34m,\u001b[0m\u001b[0;36m10\u001b[0m\u001b[0;34m]\u001b[0m\u001b[0;34m\u001b[0m\u001b[0;34m\u001b[0m\u001b[0m\n\u001b[1;32m      8\u001b[0m \u001b[0mlst\u001b[0m \u001b[0;34m=\u001b[0m \u001b[0mmap\u001b[0m\u001b[0;34m(\u001b[0m\u001b[0msqr\u001b[0m\u001b[0;34m,\u001b[0m\u001b[0mfilter\u001b[0m\u001b[0;34m(\u001b[0m\u001b[0meve\u001b[0m\u001b[0;34m,\u001b[0m\u001b[0mlst\u001b[0m\u001b[0;34m)\u001b[0m\u001b[0;34m)\u001b[0m\u001b[0;34m\u001b[0m\u001b[0;34m\u001b[0m\u001b[0m\n\u001b[0;32m----> 9\u001b[0;31m \u001b[0mprint\u001b[0m\u001b[0;34m(\u001b[0m\u001b[0mlist\u001b[0m\u001b[0;34m(\u001b[0m\u001b[0mlst\u001b[0m\u001b[0;34m)\u001b[0m\u001b[0;34m)\u001b[0m\u001b[0;34m\u001b[0m\u001b[0;34m\u001b[0m\u001b[0m\n\u001b[0m",
            "\u001b[0;31mTypeError\u001b[0m: 'list' object is not callable"
          ]
        }
      ]
    },
    {
      "cell_type": "markdown",
      "source": [
        "Answer 43"
      ],
      "metadata": {
        "id": "yBSHJR3sxiYr"
      }
    },
    {
      "cell_type": "code",
      "source": [
        "eve = filter(lambda x: x%2==0, range(1,21))\n",
        "print(eve)"
      ],
      "metadata": {
        "colab": {
          "base_uri": "https://localhost:8080/"
        },
        "id": "gLDLAAaHxllt",
        "outputId": "755b504f-f084-4c81-8362-7ed263882275"
      },
      "execution_count": 111,
      "outputs": [
        {
          "output_type": "stream",
          "name": "stdout",
          "text": [
            "<filter object at 0x7f24d5cd7ad0>\n"
          ]
        }
      ]
    },
    {
      "cell_type": "markdown",
      "source": [
        "Answer 44"
      ],
      "metadata": {
        "id": "cNzTKNhzyB6r"
      }
    },
    {
      "cell_type": "code",
      "source": [
        "sqr = map(lambda x: x**2, range(1,21))\n",
        "print(sqr)"
      ],
      "metadata": {
        "colab": {
          "base_uri": "https://localhost:8080/"
        },
        "id": "rS1PnZe7yEpy",
        "outputId": "1750009b-3486-41cf-cd8b-9e68a1576a1e"
      },
      "execution_count": 112,
      "outputs": [
        {
          "output_type": "stream",
          "name": "stdout",
          "text": [
            "<map object at 0x7f24d5d61590>\n"
          ]
        }
      ]
    },
    {
      "cell_type": "markdown",
      "source": [
        "Answer 45"
      ],
      "metadata": {
        "id": "8yfvfgWTyS79"
      }
    },
    {
      "cell_type": "code",
      "source": [
        "class American():\n",
        "    @staticmethod\n",
        "    def printNationality():\n",
        "        print(\"American\")\n",
        "\n",
        "obj = American()\n",
        "obj.printNationality()   \n",
        "American.printNationality() "
      ],
      "metadata": {
        "colab": {
          "base_uri": "https://localhost:8080/"
        },
        "id": "UohcgslDyUxk",
        "outputId": "f3271298-0df6-468f-8c9b-6ba710d25840"
      },
      "execution_count": 113,
      "outputs": [
        {
          "output_type": "stream",
          "name": "stdout",
          "text": [
            "American\n",
            "American\n"
          ]
        }
      ]
    },
    {
      "cell_type": "markdown",
      "source": [
        "Answer 46"
      ],
      "metadata": {
        "id": "30PbfLdnyyIm"
      }
    },
    {
      "cell_type": "code",
      "source": [
        "class American():\n",
        "    print(\"Parent Class\")\n",
        "\n",
        "class NewYorker(American):\n",
        "    print(\"Child Class\")\n",
        "\n",
        "obj1 = American()\n",
        "obj2 = NewYorker()\n",
        "\n",
        "print(obj1)\n",
        "print(obj2)"
      ],
      "metadata": {
        "colab": {
          "base_uri": "https://localhost:8080/"
        },
        "id": "Iw3BqQ9SyzJf",
        "outputId": "deffff50-57fd-40d1-b218-07bb9b47f9f7"
      },
      "execution_count": 115,
      "outputs": [
        {
          "output_type": "stream",
          "name": "stdout",
          "text": [
            "Parent Class\n",
            "Child Class\n",
            "<__main__.American object at 0x7f24d5d7ae50>\n",
            "<__main__.NewYorker object at 0x7f24d5d7add0>\n"
          ]
        }
      ]
    },
    {
      "cell_type": "markdown",
      "source": [
        "Answer 47"
      ],
      "metadata": {
        "id": "o6XpX-2KzdKu"
      }
    },
    {
      "cell_type": "code",
      "source": [
        "import math\n",
        "class Circle():\n",
        "    def __init__(self,r):\n",
        "        self.radius = r\n",
        "\n",
        "    def area(self):\n",
        "        return math.pi*(self.radius**2)\n",
        "\n",
        "\n",
        "obj = Circle(6)"
      ],
      "metadata": {
        "id": "P92efAVZzez9"
      },
      "execution_count": 117,
      "outputs": []
    },
    {
      "cell_type": "markdown",
      "source": [
        "Answer 48"
      ],
      "metadata": {
        "id": "wokV9nmW0EwT"
      }
    },
    {
      "cell_type": "code",
      "source": [
        "class Rectangle():\n",
        "    def __init__(self,l,b):\n",
        "        self.l = l\n",
        "        self.b = b\n",
        "\n",
        "    def area(self):\n",
        "        return self.l*self.b\n",
        "\n",
        "\n",
        "rect = Rectangle(2,4)\n",
        "print(rect.area())"
      ],
      "metadata": {
        "colab": {
          "base_uri": "https://localhost:8080/"
        },
        "id": "DaFK4mtv0H3Y",
        "outputId": "c74579de-2f19-4eec-cd78-acd6bbcca5f6"
      },
      "execution_count": 118,
      "outputs": [
        {
          "output_type": "stream",
          "name": "stdout",
          "text": [
            "8\n"
          ]
        }
      ]
    },
    {
      "cell_type": "markdown",
      "source": [
        "Answer 49"
      ],
      "metadata": {
        "id": "V5HiftEx0tOh"
      }
    },
    {
      "cell_type": "code",
      "source": [
        "class Shape():\n",
        "    def __init__(self):\n",
        "        pass\n",
        "\n",
        "    def area(self):\n",
        "        return 0\n",
        "\n",
        "class Square(Shape):\n",
        "    def __init__(self,side = 0):\n",
        "        Shape.__init__(self)\n",
        "        self.side = side\n",
        "\n",
        "    def area(self):\n",
        "        return self.side**2\n",
        "\n",
        "obj = Square(5)\n",
        "print(obj.area())"
      ],
      "metadata": {
        "colab": {
          "base_uri": "https://localhost:8080/"
        },
        "id": "9X8ZuFgI0w2c",
        "outputId": "a27cfd02-d5bb-4e88-eee9-3a7b879ff639"
      },
      "execution_count": 119,
      "outputs": [
        {
          "output_type": "stream",
          "name": "stdout",
          "text": [
            "25\n"
          ]
        }
      ]
    },
    {
      "cell_type": "markdown",
      "source": [
        "Answer 50"
      ],
      "metadata": {
        "id": "0HgEyVwP1UIR"
      }
    },
    {
      "cell_type": "code",
      "source": [
        "raise RuntimeError('something wrong')"
      ],
      "metadata": {
        "colab": {
          "base_uri": "https://localhost:8080/",
          "height": 166
        },
        "id": "xAiBSrMp1XKc",
        "outputId": "34eb8309-f6e1-4789-8db8-6d57a7ea5654"
      },
      "execution_count": 120,
      "outputs": [
        {
          "output_type": "error",
          "ename": "RuntimeError",
          "evalue": "ignored",
          "traceback": [
            "\u001b[0;31m---------------------------------------------------------------------------\u001b[0m",
            "\u001b[0;31mRuntimeError\u001b[0m                              Traceback (most recent call last)",
            "\u001b[0;32m<ipython-input-120-53fba0153627>\u001b[0m in \u001b[0;36m<module>\u001b[0;34m()\u001b[0m\n\u001b[0;32m----> 1\u001b[0;31m \u001b[0;32mraise\u001b[0m \u001b[0mRuntimeError\u001b[0m\u001b[0;34m(\u001b[0m\u001b[0;34m'something wrong'\u001b[0m\u001b[0;34m)\u001b[0m\u001b[0;34m\u001b[0m\u001b[0;34m\u001b[0m\u001b[0m\n\u001b[0m",
            "\u001b[0;31mRuntimeError\u001b[0m: something wrong"
          ]
        }
      ]
    },
    {
      "cell_type": "markdown",
      "source": [
        "Answer 51"
      ],
      "metadata": {
        "id": "QSDiCTVm27zq"
      }
    },
    {
      "cell_type": "code",
      "source": [
        "def compute():\n",
        "    return 5/0\n",
        "\n",
        "try:\n",
        "    compute()\n",
        "except ZeroDivisionError as ze:\n",
        "    print(ze)\n",
        "except:\n",
        "    print(\"other error\")"
      ],
      "metadata": {
        "colab": {
          "base_uri": "https://localhost:8080/"
        },
        "id": "9zr-N13E29BQ",
        "outputId": "f4adae06-4b05-45fe-ede6-1cd30007d964"
      },
      "execution_count": 121,
      "outputs": [
        {
          "output_type": "stream",
          "name": "stdout",
          "text": [
            "division by zero\n"
          ]
        }
      ]
    },
    {
      "cell_type": "markdown",
      "source": [
        "Answer 52"
      ],
      "metadata": {
        "id": "nNiQb-9e3Pva"
      }
    },
    {
      "cell_type": "code",
      "source": [
        "class CustError(Exception):\n",
        "\n",
        "    def __init__(self, age, message=\"Not Eligible to Vote\"):\n",
        "        self.age = age\n",
        "        self.message = message\n",
        "        super().__init__(self.message)\n",
        "\n",
        "\n",
        "age = int(input(\"Enter age: \"))\n",
        "if age<18:\n",
        "    raise CustError(age)\n",
        "else:\n",
        "  print(\"Eligible To Vote\")"
      ],
      "metadata": {
        "colab": {
          "base_uri": "https://localhost:8080/"
        },
        "id": "wqcpmXVC3RXF",
        "outputId": "ce736694-e0c4-4697-e55b-5ffd8aa982b2"
      },
      "execution_count": 125,
      "outputs": [
        {
          "output_type": "stream",
          "name": "stdout",
          "text": [
            "Enter age: 80\n",
            "Eligible To Vote\n"
          ]
        }
      ]
    },
    {
      "cell_type": "markdown",
      "source": [
        "Answer 53"
      ],
      "metadata": {
        "id": "2cCHpmSQ6B7g"
      }
    },
    {
      "cell_type": "code",
      "source": [
        "import re\n",
        "email = input(\"Enter Mail Id :\")\n",
        "pattern = \"(\\w+)@\\w+.com\"\n",
        "name = re.findall(pattern,email)\n",
        "print(name)"
      ],
      "metadata": {
        "colab": {
          "base_uri": "https://localhost:8080/"
        },
        "id": "25YVCwSx6Dbk",
        "outputId": "3d1d0dda-c4e5-402b-e7bd-25f3801c934f"
      },
      "execution_count": 127,
      "outputs": [
        {
          "output_type": "stream",
          "name": "stdout",
          "text": [
            "['john']\n"
          ]
        }
      ]
    },
    {
      "cell_type": "markdown",
      "source": [
        "Answer 54"
      ],
      "metadata": {
        "id": "3ZlThVrI6apj"
      }
    },
    {
      "cell_type": "code",
      "source": [
        "import re\n",
        "email = input(\"Enter Mail Id :\")\n",
        "pattern = \"\\w+@(\\w+).com\"\n",
        "companyname = re.findall(pattern,email)\n",
        "print(companyname)"
      ],
      "metadata": {
        "colab": {
          "base_uri": "https://localhost:8080/"
        },
        "id": "5N9ZesT46b8A",
        "outputId": "dd3c2f41-23c4-4ed9-ed34-e8edbae636bd"
      },
      "execution_count": 128,
      "outputs": [
        {
          "output_type": "stream",
          "name": "stdout",
          "text": [
            "Enter Mail Id :tanyagupta@gmail.com\n",
            "['gmail']\n"
          ]
        }
      ]
    },
    {
      "cell_type": "markdown",
      "source": [
        "Answer 55"
      ],
      "metadata": {
        "id": "fHoYLwPt7bnV"
      }
    },
    {
      "cell_type": "code",
      "source": [
        "import re\n",
        "strings = input(\"Enter String : \")\n",
        "print(re.findall(\"\\d+\",strings))"
      ],
      "metadata": {
        "colab": {
          "base_uri": "https://localhost:8080/"
        },
        "id": "mz2ywQwt7cyQ",
        "outputId": "ff4d95b5-51c0-43f3-c87e-7ca3343dbf13"
      },
      "execution_count": 130,
      "outputs": [
        {
          "output_type": "stream",
          "name": "stdout",
          "text": [
            "Enter String : 2 cats and 3 dogs\n",
            "['2', '3']\n"
          ]
        }
      ]
    },
    {
      "cell_type": "markdown",
      "source": [
        "Answer 56"
      ],
      "metadata": {
        "id": "8Y6bEJjs8G77"
      }
    },
    {
      "cell_type": "code",
      "source": [
        "print(u\"hello world!\")"
      ],
      "metadata": {
        "colab": {
          "base_uri": "https://localhost:8080/"
        },
        "id": "imcDtSKI8JnF",
        "outputId": "f43cffae-691a-4c1e-fcf9-d3bc676ac137"
      },
      "execution_count": 134,
      "outputs": [
        {
          "output_type": "stream",
          "name": "stdout",
          "text": [
            "hello world!\n"
          ]
        }
      ]
    },
    {
      "cell_type": "markdown",
      "source": [
        "Answer 57"
      ],
      "metadata": {
        "id": "IyvOGpVy_1uo"
      }
    },
    {
      "cell_type": "code",
      "source": [
        "num = input()\n",
        "res = num.encode('utf-8')\n",
        "print(res)"
      ],
      "metadata": {
        "colab": {
          "base_uri": "https://localhost:8080/"
        },
        "id": "pOaP93x3_4L6",
        "outputId": "cf355d1b-be1d-463d-bded-7f5695fa26c1"
      },
      "execution_count": 135,
      "outputs": [
        {
          "output_type": "stream",
          "name": "stdout",
          "text": [
            "tanya\n",
            "b'tanya'\n"
          ]
        }
      ]
    },
    {
      "cell_type": "markdown",
      "source": [
        "Answer 58"
      ],
      "metadata": {
        "id": "qnGUX6t7_4aX"
      }
    },
    {
      "cell_type": "code",
      "source": [
        "# -*- coding: utf-8 -*-"
      ],
      "metadata": {
        "id": "XyOvO3zf_5bO"
      },
      "execution_count": null,
      "outputs": []
    },
    {
      "cell_type": "markdown",
      "source": [
        "Answer 59"
      ],
      "metadata": {
        "id": "4WRV8Q97_715"
      }
    },
    {
      "cell_type": "code",
      "source": [
        "n=int(input())\n",
        "res=0.0\n",
        "for i in range(1,n+1):\n",
        "    res += float(float(i)/(i+1))\n",
        "print (round(res,2))"
      ],
      "metadata": {
        "colab": {
          "base_uri": "https://localhost:8080/"
        },
        "id": "XqncrWww_9Qb",
        "outputId": "aac1d8a2-1bdd-4d87-e117-2b2fdee169e4"
      },
      "execution_count": 144,
      "outputs": [
        {
          "output_type": "stream",
          "name": "stdout",
          "text": [
            "5\n",
            "3.55\n"
          ]
        }
      ]
    },
    {
      "cell_type": "markdown",
      "source": [
        "Answer 60"
      ],
      "metadata": {
        "id": "yUQnkWh7_9gi"
      }
    },
    {
      "cell_type": "code",
      "source": [
        "def f(n):\n",
        "    if n == 0:\n",
        "        return 0\n",
        "    return f(n-1) + 100\n",
        "\n",
        "n = int(input())\n",
        "print(f(n))"
      ],
      "metadata": {
        "colab": {
          "base_uri": "https://localhost:8080/"
        },
        "id": "Wc1XmR_b__86",
        "outputId": "15e8b252-0998-4d82-b820-a70e91ad49ad"
      },
      "execution_count": 138,
      "outputs": [
        {
          "output_type": "stream",
          "name": "stdout",
          "text": [
            "5\n",
            "500\n"
          ]
        }
      ]
    },
    {
      "cell_type": "markdown",
      "source": [
        "Answer 61"
      ],
      "metadata": {
        "id": "G3FFwrsEBcEF"
      }
    },
    {
      "cell_type": "code",
      "source": [
        "def f(n):\n",
        "    if n < 2:\n",
        "        return n\n",
        "    return f(n-1) + f(n-2)\n",
        "\n",
        "n = int(input())\n",
        "print(f(n))"
      ],
      "metadata": {
        "colab": {
          "base_uri": "https://localhost:8080/"
        },
        "id": "jcAyPc8BBf5t",
        "outputId": "c0c58b8d-d4ac-4fd8-b181-fe8bb5f50b11"
      },
      "execution_count": 139,
      "outputs": [
        {
          "output_type": "stream",
          "name": "stdout",
          "text": [
            "7\n",
            "13\n"
          ]
        }
      ]
    },
    {
      "cell_type": "markdown",
      "source": [
        "Answer 62"
      ],
      "metadata": {
        "id": "VDHKzh5xBgTh"
      }
    },
    {
      "cell_type": "code",
      "source": [
        "def fun(n):\n",
        "    if n < 2:\n",
        "        fibo[n] = n\n",
        "        return fibo[n]\n",
        "    fibo[n] = f(n-1) + f(n-2)\n",
        "    return fibo[n]\n",
        "\n",
        "num = int(input())\n",
        "fibo = [0]*(num+1)  \n",
        "fun(num)              \n",
        "fibo = [str(i) for i in fibo]  \n",
        "res = \",\".join(fibo)   \n",
        "print(res)"
      ],
      "metadata": {
        "colab": {
          "base_uri": "https://localhost:8080/",
          "height": 374
        },
        "id": "cJCxjbugBkeC",
        "outputId": "2ab6b676-4ebe-4afe-cc56-76452fe915d3"
      },
      "execution_count": 143,
      "outputs": [
        {
          "name": "stdout",
          "output_type": "stream",
          "text": [
            "7\n"
          ]
        },
        {
          "output_type": "error",
          "ename": "TypeError",
          "evalue": "ignored",
          "traceback": [
            "\u001b[0;31m---------------------------------------------------------------------------\u001b[0m",
            "\u001b[0;31mTypeError\u001b[0m                                 Traceback (most recent call last)",
            "\u001b[0;32m<ipython-input-143-6fed0bc61b3e>\u001b[0m in \u001b[0;36m<module>\u001b[0;34m()\u001b[0m\n\u001b[1;32m      9\u001b[0m \u001b[0mfibo\u001b[0m \u001b[0;34m=\u001b[0m \u001b[0;34m[\u001b[0m\u001b[0;36m0\u001b[0m\u001b[0;34m]\u001b[0m\u001b[0;34m*\u001b[0m\u001b[0;34m(\u001b[0m\u001b[0mn\u001b[0m\u001b[0;34m+\u001b[0m\u001b[0;36m1\u001b[0m\u001b[0;34m)\u001b[0m\u001b[0;34m\u001b[0m\u001b[0;34m\u001b[0m\u001b[0m\n\u001b[1;32m     10\u001b[0m \u001b[0mf\u001b[0m\u001b[0;34m(\u001b[0m\u001b[0mn\u001b[0m\u001b[0;34m)\u001b[0m\u001b[0;34m\u001b[0m\u001b[0;34m\u001b[0m\u001b[0m\n\u001b[0;32m---> 11\u001b[0;31m \u001b[0mfibo\u001b[0m \u001b[0;34m=\u001b[0m \u001b[0;34m[\u001b[0m\u001b[0mstr\u001b[0m\u001b[0;34m(\u001b[0m\u001b[0mi\u001b[0m\u001b[0;34m)\u001b[0m \u001b[0;32mfor\u001b[0m \u001b[0mi\u001b[0m \u001b[0;32min\u001b[0m \u001b[0mfibo\u001b[0m\u001b[0;34m]\u001b[0m\u001b[0;34m\u001b[0m\u001b[0;34m\u001b[0m\u001b[0m\n\u001b[0m\u001b[1;32m     12\u001b[0m \u001b[0mres\u001b[0m \u001b[0;34m=\u001b[0m \u001b[0;34m\",\"\u001b[0m\u001b[0;34m.\u001b[0m\u001b[0mjoin\u001b[0m\u001b[0;34m(\u001b[0m\u001b[0mfibo\u001b[0m\u001b[0;34m)\u001b[0m\u001b[0;34m\u001b[0m\u001b[0;34m\u001b[0m\u001b[0m\n\u001b[1;32m     13\u001b[0m \u001b[0mprint\u001b[0m\u001b[0;34m(\u001b[0m\u001b[0mres\u001b[0m\u001b[0;34m)\u001b[0m\u001b[0;34m\u001b[0m\u001b[0;34m\u001b[0m\u001b[0m\n",
            "\u001b[0;32m<ipython-input-143-6fed0bc61b3e>\u001b[0m in \u001b[0;36m<listcomp>\u001b[0;34m(.0)\u001b[0m\n\u001b[1;32m      9\u001b[0m \u001b[0mfibo\u001b[0m \u001b[0;34m=\u001b[0m \u001b[0;34m[\u001b[0m\u001b[0;36m0\u001b[0m\u001b[0;34m]\u001b[0m\u001b[0;34m*\u001b[0m\u001b[0;34m(\u001b[0m\u001b[0mn\u001b[0m\u001b[0;34m+\u001b[0m\u001b[0;36m1\u001b[0m\u001b[0;34m)\u001b[0m\u001b[0;34m\u001b[0m\u001b[0;34m\u001b[0m\u001b[0m\n\u001b[1;32m     10\u001b[0m \u001b[0mf\u001b[0m\u001b[0;34m(\u001b[0m\u001b[0mn\u001b[0m\u001b[0;34m)\u001b[0m\u001b[0;34m\u001b[0m\u001b[0;34m\u001b[0m\u001b[0m\n\u001b[0;32m---> 11\u001b[0;31m \u001b[0mfibo\u001b[0m \u001b[0;34m=\u001b[0m \u001b[0;34m[\u001b[0m\u001b[0mstr\u001b[0m\u001b[0;34m(\u001b[0m\u001b[0mi\u001b[0m\u001b[0;34m)\u001b[0m \u001b[0;32mfor\u001b[0m \u001b[0mi\u001b[0m \u001b[0;32min\u001b[0m \u001b[0mfibo\u001b[0m\u001b[0;34m]\u001b[0m\u001b[0;34m\u001b[0m\u001b[0;34m\u001b[0m\u001b[0m\n\u001b[0m\u001b[1;32m     12\u001b[0m \u001b[0mres\u001b[0m \u001b[0;34m=\u001b[0m \u001b[0;34m\",\"\u001b[0m\u001b[0;34m.\u001b[0m\u001b[0mjoin\u001b[0m\u001b[0;34m(\u001b[0m\u001b[0mfibo\u001b[0m\u001b[0;34m)\u001b[0m\u001b[0;34m\u001b[0m\u001b[0;34m\u001b[0m\u001b[0m\n\u001b[1;32m     13\u001b[0m \u001b[0mprint\u001b[0m\u001b[0;34m(\u001b[0m\u001b[0mres\u001b[0m\u001b[0;34m)\u001b[0m\u001b[0;34m\u001b[0m\u001b[0;34m\u001b[0m\u001b[0m\n",
            "\u001b[0;31mTypeError\u001b[0m: 'str' object is not callable"
          ]
        }
      ]
    },
    {
      "cell_type": "markdown",
      "source": [
        "Answer 63"
      ],
      "metadata": {
        "id": "2WDdSpHeBkpY"
      }
    },
    {
      "cell_type": "code",
      "source": [
        "def genarator(n):\n",
        "    i=0\n",
        "    while i<=n:\n",
        "        if i%2==0:\n",
        "            yield i\n",
        "        i+=1\n",
        "\n",
        "\n",
        "num=int(input())\n",
        "eveval = []\n",
        "for i in genarator(num):\n",
        "    eveval.append(str(i))\n",
        "\n",
        "print (\",\".join(eveval))"
      ],
      "metadata": {
        "id": "tfcMP8dCBll3"
      },
      "execution_count": null,
      "outputs": []
    },
    {
      "cell_type": "markdown",
      "source": [
        "Answer 64"
      ],
      "metadata": {
        "id": "o21nr4NWBl1U"
      }
    },
    {
      "cell_type": "code",
      "source": [
        "def gen(n):\n",
        "    for i in range(n+1):\n",
        "        if i % 35 == 0:  \n",
        "            yield i\n",
        "\n",
        "n = int(input())\n",
        "res = [str(i) for i in gen(n)]\n",
        "print(\",\".join(res))"
      ],
      "metadata": {
        "id": "ZJM4f5gpBmv2"
      },
      "execution_count": null,
      "outputs": []
    },
    {
      "cell_type": "markdown",
      "source": [
        "Answer 65"
      ],
      "metadata": {
        "id": "ugcUOmGQBm7M"
      }
    },
    {
      "cell_type": "code",
      "source": [
        "data = [2,4,5,6]\n",
        "for i in data:\n",
        "    assert i%2 == 0, \"{} is not even\".format(i)"
      ],
      "metadata": {
        "id": "ZPrXS4lWBn4X"
      },
      "execution_count": null,
      "outputs": []
    },
    {
      "cell_type": "markdown",
      "source": [
        "Answer 66"
      ],
      "metadata": {
        "id": "YbBQNc2iBoFZ"
      }
    },
    {
      "cell_type": "code",
      "source": [
        "exp = input()\n",
        "res = eval(exp)\n",
        "print(res)"
      ],
      "metadata": {
        "id": "_x0dzbTNBpCO"
      },
      "execution_count": null,
      "outputs": []
    },
    {
      "cell_type": "markdown",
      "source": [
        "Answer 67"
      ],
      "metadata": {
        "id": "SsTLomo-BpUd"
      }
    },
    {
      "cell_type": "code",
      "source": [
        "def search(lst, item):\n",
        "    low = 0\n",
        "    high = len(lst) - 1\n",
        "    \n",
        "    while low <= high:\n",
        "        mid = round((low + high) / 2)\n",
        "        if lst[mid] == item:\n",
        "            return mid\n",
        "        elif lst[mid] > item:\n",
        "            high = mid - 1\n",
        "        else:\n",
        "            low = mid + 1\n",
        "    return None\n",
        "    \n",
        "lst = [1,3,5,7,9]\n",
        "print(search(lst, 9))   "
      ],
      "metadata": {
        "id": "nkwzdpctBqQZ"
      },
      "execution_count": null,
      "outputs": []
    },
    {
      "cell_type": "markdown",
      "source": [
        "Answer 68"
      ],
      "metadata": {
        "id": "fU72aFpXBqjM"
      }
    },
    {
      "cell_type": "code",
      "source": [
        "import random\n",
        "print (random.random()*100)"
      ],
      "metadata": {
        "id": "QS92L2ZjBrgS"
      },
      "execution_count": null,
      "outputs": []
    },
    {
      "cell_type": "markdown",
      "source": [
        "Answer 69"
      ],
      "metadata": {
        "id": "Z2y2b-6BBrtl"
      }
    },
    {
      "cell_type": "code",
      "source": [
        "import random\n",
        "print (random.random()*100-5)"
      ],
      "metadata": {
        "id": "KGKcoqbCBs23"
      },
      "execution_count": null,
      "outputs": []
    },
    {
      "cell_type": "markdown",
      "source": [
        "Answer 70"
      ],
      "metadata": {
        "id": "kVwDuvHUBtAr"
      }
    },
    {
      "cell_type": "code",
      "source": [
        "import random\n",
        "resp = [i for i in range(0,11,2)]\n",
        "print(random.choice(resp))"
      ],
      "metadata": {
        "id": "BngIVmjQBuGb"
      },
      "execution_count": null,
      "outputs": []
    }
  ]
}